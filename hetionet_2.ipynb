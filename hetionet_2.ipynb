{
 "cells": [
  {
   "cell_type": "code",
   "id": "initial_id",
   "metadata": {
    "collapsed": true,
    "ExecuteTime": {
     "end_time": "2024-06-20T11:31:13.928177Z",
     "start_time": "2024-06-20T11:31:13.924440Z"
    }
   },
   "source": [
    "import torch\n",
    "import pykeen\n",
    "from pykeen.pipeline import pipeline\n",
    "from pykeen.datasets import get_dataset\n",
    "from pykeen.evaluation import RankBasedEvaluator"
   ],
   "outputs": [],
   "execution_count": 2
  },
  {
   "metadata": {
    "ExecuteTime": {
     "end_time": "2024-06-20T11:31:14.686986Z",
     "start_time": "2024-06-20T11:31:14.656066Z"
    }
   },
   "cell_type": "code",
   "source": "torch.backends.mps.is_available()",
   "id": "f1147b163f2aa910",
   "outputs": [
    {
     "data": {
      "text/plain": [
       "True"
      ]
     },
     "execution_count": 3,
     "metadata": {},
     "output_type": "execute_result"
    }
   ],
   "execution_count": 3
  },
  {
   "metadata": {
    "ExecuteTime": {
     "end_time": "2024-06-20T11:31:15.480568Z",
     "start_time": "2024-06-20T11:31:15.379815Z"
    }
   },
   "cell_type": "code",
   "source": [
    "mps_device = torch.device(\"mps\")\n",
    "x = torch.ones(1, device=mps_device)\n",
    "x"
   ],
   "id": "bea3077d190fe98a",
   "outputs": [
    {
     "data": {
      "text/plain": [
       "tensor([1.], device='mps:0')"
      ]
     },
     "execution_count": 4,
     "metadata": {},
     "output_type": "execute_result"
    }
   ],
   "execution_count": 4
  },
  {
   "metadata": {
    "ExecuteTime": {
     "end_time": "2024-06-20T11:31:16.952492Z",
     "start_time": "2024-06-20T11:31:16.885592Z"
    }
   },
   "cell_type": "code",
   "source": "best_model = torch.load('results/baseline/transe_hetionet_best_hpo/trained_model.pkl', mps_device)",
   "id": "8c27d54356c3607c",
   "outputs": [],
   "execution_count": 5
  },
  {
   "metadata": {
    "ExecuteTime": {
     "end_time": "2024-06-20T11:31:18.884541Z",
     "start_time": "2024-06-20T11:31:18.380620Z"
    }
   },
   "cell_type": "code",
   "source": "dataset = get_dataset(dataset=\"hetionet\")",
   "id": "2e65f5b858dfd0da",
   "outputs": [],
   "execution_count": 6
  },
  {
   "metadata": {
    "ExecuteTime": {
     "end_time": "2024-06-20T11:31:19.033141Z",
     "start_time": "2024-06-20T11:31:19.027908Z"
    }
   },
   "cell_type": "code",
   "source": [
    "triples_factory = dataset.training\n",
    "test_triples = dataset.testing.mapped_triples\n",
    "ctd_id = torch.as_tensor(triples_factory.relations_to_ids([\"CtD\"]))\n",
    "ctd_triples = test_triples[test_triples[:, 1] == ctd_id]"
   ],
   "id": "97cf768c2a314207",
   "outputs": [],
   "execution_count": 7
  },
  {
   "metadata": {
    "ExecuteTime": {
     "end_time": "2024-06-20T11:31:20.357999Z",
     "start_time": "2024-06-20T11:31:20.353392Z"
    }
   },
   "cell_type": "code",
   "source": "test_triples.shape",
   "id": "fdb1e7d39d926f44",
   "outputs": [
    {
     "data": {
      "text/plain": [
       "torch.Size([225020, 3])"
      ]
     },
     "execution_count": 8,
     "metadata": {},
     "output_type": "execute_result"
    }
   ],
   "execution_count": 8
  },
  {
   "metadata": {
    "ExecuteTime": {
     "start_time": "2024-06-19T22:02:23.300507Z"
    }
   },
   "cell_type": "code",
   "source": [
    "evaluator = RankBasedEvaluator()\n",
    "metrics = evaluator.evaluate(best_model, mapped_triples=test_triples, device=mps_device)"
   ],
   "id": "3465e89a782fa51b",
   "outputs": [
    {
     "name": "stderr",
     "output_type": "stream",
     "text": [
      "The filtered setting was enabled, but there were no `additional_filter_triples`\n",
      "given. This means you probably forgot to pass (at least) the training triples. Try:\n",
      "\n",
      "    additional_filter_triples=[dataset.training.mapped_triples]\n",
      "\n",
      "Or if you want to use the Bordes et al. (2013) approach to filtering, do:\n",
      "\n",
      "    additional_filter_triples=[\n",
      "        dataset.training.mapped_triples,\n",
      "        dataset.validation.mapped_triples,\n",
      "    ]\n",
      "\n"
     ]
    },
    {
     "data": {
      "text/plain": [
       "Evaluating on mps:0:   0%|          | 0.00/225k [00:00<?, ?triple/s]"
      ],
      "application/vnd.jupyter.widget-view+json": {
       "version_major": 2,
       "version_minor": 0,
       "model_id": "e6184f1d1a164959ad1d1d708d5009a9"
      }
     },
     "metadata": {},
     "output_type": "display_data"
    },
    {
     "name": "stderr",
     "output_type": "stream",
     "text": [
      "Encountered tensors on device_types={'mps'} while only ['cuda'] are considered safe for automatic memory utilization maximization. This may lead to undocumented crashes (but can be safe, too).\n"
     ]
    }
   ],
   "execution_count": null
  },
  {
   "metadata": {
    "ExecuteTime": {
     "end_time": "2024-06-20T11:31:28.713490Z",
     "start_time": "2024-06-20T11:31:28.673449Z"
    }
   },
   "cell_type": "code",
   "source": "ctd_only_model = torch.load('results/baseline/transe_hetionet_only_ctd_relation/trained_model.pkl', mps_device)",
   "id": "ced356ab1c31bd9a",
   "outputs": [],
   "execution_count": 9
  },
  {
   "metadata": {
    "ExecuteTime": {
     "end_time": "2024-06-20T11:31:32.469353Z",
     "start_time": "2024-06-20T11:31:30.804092Z"
    }
   },
   "cell_type": "code",
   "source": [
    "evaluator = RankBasedEvaluator()\n",
    "metrics = evaluator.evaluate(ctd_only_model, mapped_triples=ctd_triples, device=mps_device)"
   ],
   "id": "64398e5e6db35528",
   "outputs": [
    {
     "name": "stderr",
     "output_type": "stream",
     "text": [
      "The filtered setting was enabled, but there were no `additional_filter_triples`\n",
      "given. This means you probably forgot to pass (at least) the training triples. Try:\n",
      "\n",
      "    additional_filter_triples=[dataset.training.mapped_triples]\n",
      "\n",
      "Or if you want to use the Bordes et al. (2013) approach to filtering, do:\n",
      "\n",
      "    additional_filter_triples=[\n",
      "        dataset.training.mapped_triples,\n",
      "        dataset.validation.mapped_triples,\n",
      "    ]\n",
      "\n"
     ]
    },
    {
     "data": {
      "text/plain": [
       "Evaluating on mps:0:   0%|          | 0.00/71.0 [00:00<?, ?triple/s]"
      ],
      "application/vnd.jupyter.widget-view+json": {
       "version_major": 2,
       "version_minor": 0,
       "model_id": "fa5ff6a6d9ff4e8595c2feba17797d5f"
      }
     },
     "metadata": {},
     "output_type": "display_data"
    },
    {
     "name": "stderr",
     "output_type": "stream",
     "text": [
      "Encountered tensors on device_types={'mps'} while only ['cuda'] are considered safe for automatic memory utilization maximization. This may lead to undocumented crashes (but can be safe, too).\n"
     ]
    }
   ],
   "execution_count": 10
  },
  {
   "metadata": {
    "ExecuteTime": {
     "end_time": "2024-06-20T11:31:35.021945Z",
     "start_time": "2024-06-20T11:31:35.017654Z"
    }
   },
   "cell_type": "code",
   "source": [
    "def print_metrics(metric_results):\n",
    "    print(\"MRR: {}\".format(metric_results.get_metric(\"inverseharmonicmeanrank\")))\n",
    "    print(\"Hits@1: {}\".format(metric_results.get_metric(\"hits_at_1\")))\n",
    "    print(\"Hits@3: {}\".format(metric_results.get_metric(\"hits_at_3\")))\n",
    "    print(\"Hits@10: {}\".format(metric_results.get_metric(\"hits_at_10\")))"
   ],
   "id": "5378e94844157fcd",
   "outputs": [],
   "execution_count": 11
  },
  {
   "metadata": {
    "ExecuteTime": {
     "end_time": "2024-06-20T11:31:37.141624Z",
     "start_time": "2024-06-20T11:31:37.137222Z"
    }
   },
   "cell_type": "code",
   "source": "print_metrics(metrics)",
   "id": "89d73b3921198a4c",
   "outputs": [
    {
     "name": "stdout",
     "output_type": "stream",
     "text": [
      "MRR: 0.11428647488355637\n",
      "Hits@1: 0.0\n",
      "Hits@3: 0.11971830985915492\n",
      "Hits@10: 0.323943661971831\n"
     ]
    }
   ],
   "execution_count": 12
  },
  {
   "metadata": {
    "ExecuteTime": {
     "end_time": "2024-06-20T11:31:41.240522Z",
     "start_time": "2024-06-20T11:31:38.344045Z"
    }
   },
   "cell_type": "code",
   "source": [
    "ctd_triples_validation = dataset.validation.mapped_triples[test_triples[:, 1] == ctd_id]\n",
    "metrics_ctd_validation = evaluator.evaluate(ctd_only_model, mapped_triples=ctd_triples_validation, device=mps_device)"
   ],
   "id": "f71e5c6eda75da20",
   "outputs": [
    {
     "name": "stderr",
     "output_type": "stream",
     "text": [
      "The filtered setting was enabled, but there were no `additional_filter_triples`\n",
      "given. This means you probably forgot to pass (at least) the training triples. Try:\n",
      "\n",
      "    additional_filter_triples=[dataset.training.mapped_triples]\n",
      "\n",
      "Or if you want to use the Bordes et al. (2013) approach to filtering, do:\n",
      "\n",
      "    additional_filter_triples=[\n",
      "        dataset.training.mapped_triples,\n",
      "        dataset.validation.mapped_triples,\n",
      "    ]\n",
      "\n"
     ]
    },
    {
     "data": {
      "text/plain": [
       "Evaluating on mps:0:   0%|          | 0.00/71.0 [00:00<?, ?triple/s]"
      ],
      "application/vnd.jupyter.widget-view+json": {
       "version_major": 2,
       "version_minor": 0,
       "model_id": "e24e5b880ed34051bb3d5ece818ccd7b"
      }
     },
     "metadata": {},
     "output_type": "display_data"
    },
    {
     "name": "stderr",
     "output_type": "stream",
     "text": [
      "Encountered tensors on device_types={'mps'} while only ['cuda'] are considered safe for automatic memory utilization maximization. This may lead to undocumented crashes (but can be safe, too).\n"
     ]
    }
   ],
   "execution_count": 13
  },
  {
   "metadata": {
    "ExecuteTime": {
     "end_time": "2024-06-20T11:31:50.703948Z",
     "start_time": "2024-06-20T11:31:50.700238Z"
    }
   },
   "cell_type": "code",
   "source": "print_metrics(metrics_ctd_validation)",
   "id": "c986339da449913f",
   "outputs": [
    {
     "name": "stdout",
     "output_type": "stream",
     "text": [
      "MRR: 0.08169311285018921\n",
      "Hits@1: 0.02112676056338028\n",
      "Hits@3: 0.09859154929577464\n",
      "Hits@10: 0.20422535211267606\n"
     ]
    }
   ],
   "execution_count": 14
  }
 ],
 "metadata": {
  "kernelspec": {
   "display_name": "Python 3",
   "language": "python",
   "name": "python3"
  },
  "language_info": {
   "codemirror_mode": {
    "name": "ipython",
    "version": 2
   },
   "file_extension": ".py",
   "mimetype": "text/x-python",
   "name": "python",
   "nbconvert_exporter": "python",
   "pygments_lexer": "ipython2",
   "version": "2.7.6"
  }
 },
 "nbformat": 4,
 "nbformat_minor": 5
}
