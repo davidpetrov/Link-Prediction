{
 "cells": [
  {
   "cell_type": "code",
   "execution_count": 12,
   "id": "d72dc3466e5399a0",
   "metadata": {
    "ExecuteTime": {
     "end_time": "2024-06-20T10:27:12.011277Z",
     "start_time": "2024-06-20T10:27:12.007288Z"
    }
   },
   "outputs": [],
   "source": [
    "import torch\n",
    "import pykeen\n",
    "from pykeen import predict\n",
    "from pykeen.pipeline import pipeline\n",
    "from pykeen.datasets import get_dataset"
   ]
  },
  {
   "cell_type": "code",
   "execution_count": 3,
   "id": "85c2f75aa367218f",
   "metadata": {
    "ExecuteTime": {
     "end_time": "2024-06-20T10:27:13.384015Z",
     "start_time": "2024-06-20T10:27:13.380279Z"
    }
   },
   "outputs": [],
   "source": [
    "mps_device = torch.device(\"mps\")"
   ]
  },
  {
   "cell_type": "code",
   "execution_count": 25,
   "id": "bc550adaf498e64b",
   "metadata": {
    "ExecuteTime": {
     "end_time": "2024-06-20T10:27:14.590958Z",
     "start_time": "2024-06-20T10:27:14.003151Z"
    }
   },
   "outputs": [],
   "source": [
    "ctd_only_model = torch.load('results/baseline/transe_hetionet_only_ctd_relation/trained_model.pkl')"
   ]
  },
  {
   "cell_type": "code",
   "execution_count": 34,
   "id": "2755ae99-c4c9-47d7-975b-2a6f740f6100",
   "metadata": {},
   "outputs": [],
   "source": [
    "best_transe_model = torch.load('results/baseline/transe_hetionet_best_hpo2/trained_model.pkl')"
   ]
  },
  {
   "cell_type": "code",
   "execution_count": 13,
   "id": "initial_id",
   "metadata": {
    "ExecuteTime": {
     "end_time": "2024-06-20T10:27:16.013706Z",
     "start_time": "2024-06-20T10:27:15.457955Z"
    }
   },
   "outputs": [],
   "source": [
    "dataset = get_dataset(dataset=\"hetionet\")"
   ]
  },
  {
   "cell_type": "code",
   "execution_count": 14,
   "id": "8042e382b329b6a6",
   "metadata": {
    "ExecuteTime": {
     "end_time": "2024-06-20T10:46:19.398167Z",
     "start_time": "2024-06-20T10:46:19.391169Z"
    }
   },
   "outputs": [],
   "source": [
    "triples_factory = dataset.training\n",
    "test_triples = dataset.testing.mapped_triples\n",
    "ctd_id = torch.as_tensor(triples_factory.relations_to_ids([\"CtD\"]))\n",
    "ctd_triples = test_triples[test_triples[:, 1] == ctd_id]"
   ]
  },
  {
   "cell_type": "code",
   "execution_count": null,
   "id": "8cafd7f1db0cbfdb",
   "metadata": {
    "ExecuteTime": {
     "end_time": "2024-06-20T11:08:42.425031Z",
     "start_time": "2024-06-20T11:08:42.412915Z"
    }
   },
   "outputs": [],
   "source": [
    "ctd_triples"
   ]
  },
  {
   "cell_type": "code",
   "execution_count": 15,
   "id": "85ab5fc2344375e2",
   "metadata": {
    "ExecuteTime": {
     "end_time": "2024-06-20T14:45:51.853337Z",
     "start_time": "2024-06-20T14:45:51.843963Z"
    }
   },
   "outputs": [],
   "source": [
    "def evaluate_semantic_awareness(triples, model, triples_factory):\n",
    "   final_semantic_awareness_score = 0\n",
    "   for triple in triples:\n",
    "        prediction_for_tail = predict.predict_target(model=model, relation=\"CtD\", head=triple[0].item(), triples_factory=triples_factory)\n",
    "        prediction_for_tail_top_10 = prediction_for_tail.df.nlargest(n=10, columns=\"score\")\n",
    "        prediction_for_head = predict.predict_target(model=model, relation=\"CtD\", tail=triple[2].item(), triples_factory=triples_factory)\n",
    "        prediction_for_head_top_10 = prediction_for_head.df.nlargest(n=10, columns=\"score\")\n",
    "        count_of_expected_head = len(prediction_for_head_top_10[prediction_for_head_top_10[\"head_label\"].str.startswith(\"Compound\")])\n",
    "        count_of_expected_tail = len(prediction_for_tail_top_10[prediction_for_tail_top_10[\"tail_label\"].str.startswith(\"Disease\")])\n",
    "        semantic_score = ((count_of_expected_head + count_of_expected_tail) / (len(prediction_for_tail_top_10) + len(prediction_for_head_top_10)))\n",
    "        final_semantic_awareness_score += semantic_score\n",
    "   final_semantic_awareness_score = final_semantic_awareness_score / len(triples)\n",
    "   return final_semantic_awareness_score"
   ]
  },
  {
   "cell_type": "code",
   "execution_count": 92,
   "id": "2d2bb78cb871e06f",
   "metadata": {
    "ExecuteTime": {
     "end_time": "2024-06-20T14:47:25.666448Z",
     "start_time": "2024-06-20T14:47:21.177902Z"
    }
   },
   "outputs": [
    {
     "data": {
      "text/plain": [
       "0.897887323943661"
      ]
     },
     "execution_count": 92,
     "metadata": {},
     "output_type": "execute_result"
    }
   ],
   "source": [
    "sem_score_std_only = evaluate_semantic_awareness(ctd_triples, ctd_only_model, dataset.training)\n",
    "sem_score_std_only"
   ]
  },
  {
   "cell_type": "code",
   "execution_count": 93,
   "id": "dd59062a5fb255bd",
   "metadata": {
    "ExecuteTime": {
     "end_time": "2024-06-20T14:48:32.912950Z",
     "start_time": "2024-06-20T14:48:32.393859Z"
    }
   },
   "outputs": [],
   "source": [
    "best_hpo2_model = torch.load('results/baseline/transe_hetionet_only_ctd_relation/trained_model.pkl', mps_device)"
   ]
  },
  {
   "cell_type": "code",
   "execution_count": 94,
   "id": "ad749327f2ff129f",
   "metadata": {
    "ExecuteTime": {
     "end_time": "2024-06-20T14:49:44.172541Z",
     "start_time": "2024-06-20T14:49:39.642977Z"
    }
   },
   "outputs": [
    {
     "data": {
      "text/plain": [
       "0.897887323943661"
      ]
     },
     "execution_count": 94,
     "metadata": {},
     "output_type": "execute_result"
    }
   ],
   "source": [
    "sem_score_best_hpo2 = evaluate_semantic_awareness(ctd_triples, best_hpo2_model, dataset.training)\n",
    "sem_score_best_hpo2"
   ]
  },
  {
   "cell_type": "code",
   "execution_count": 16,
   "id": "28feacb9-e3e2-4a9b-849f-372b9fb401c0",
   "metadata": {},
   "outputs": [],
   "source": [
    "rotate_model = torch.load('results/baseline/rotate_best_hpo/trained_model.pkl')"
   ]
  },
  {
   "cell_type": "code",
   "execution_count": 17,
   "id": "3a1d33e1-b379-4a9b-95e5-b8fc02da3f9d",
   "metadata": {},
   "outputs": [],
   "source": [
    "sem_score_ctd_rotate_test = evaluate_semantic_awareness(ctd_triples, rotate_model, dataset.training)"
   ]
  },
  {
   "cell_type": "code",
   "execution_count": 18,
   "id": "21652d46-1015-41c0-9bb7-a74f887d73a9",
   "metadata": {},
   "outputs": [
    {
     "data": {
      "text/plain": [
       "1.0"
      ]
     },
     "execution_count": 18,
     "metadata": {},
     "output_type": "execute_result"
    }
   ],
   "source": [
    "sem_score_ctd_rotate_test"
   ]
  },
  {
   "cell_type": "code",
   "execution_count": 22,
   "id": "6ef57254-946a-4b37-99f3-68edb138ee67",
   "metadata": {},
   "outputs": [],
   "source": [
    "validation_triples = dataset.validation.mapped_triples\n",
    "ctd_triples_validation = validation_triples[validation_triples[:, 1] == ctd_id]"
   ]
  },
  {
   "cell_type": "code",
   "execution_count": 23,
   "id": "46bd9651-fe9f-4103-b09a-fd778a9a04ec",
   "metadata": {},
   "outputs": [
    {
     "data": {
      "text/plain": [
       "1.0"
      ]
     },
     "execution_count": 23,
     "metadata": {},
     "output_type": "execute_result"
    }
   ],
   "source": [
    "sem_score_ctd_rotate_valiadtion = evaluate_semantic_awareness(ctd_triples_validation, rotate_model, dataset.training)\n",
    "sem_score_ctd_rotate_valiadtion"
   ]
  },
  {
   "cell_type": "code",
   "execution_count": 26,
   "id": "e9e9c2d5-9b53-45db-a02d-6a2476f592d7",
   "metadata": {},
   "outputs": [
    {
     "data": {
      "text/plain": [
       "0.8970588235294115"
      ]
     },
     "execution_count": 26,
     "metadata": {},
     "output_type": "execute_result"
    }
   ],
   "source": [
    "sem_score_ctd_trans_valiadtion = evaluate_semantic_awareness(ctd_triples_validation, ctd_only_model, dataset.training)\n",
    "sem_score_ctd_trans_valiadtion"
   ]
  },
  {
   "cell_type": "code",
   "execution_count": 40,
   "id": "a82b2e7c-205d-4c06-aeb4-998620e99241",
   "metadata": {},
   "outputs": [],
   "source": [
    "drd_id = torch.as_tensor(triples_factory.relations_to_ids([\"DrD\"]))\n",
    "drd_triples = test_triples[test_triples[:, 1] == drd_id]\n",
    "drd_triples_validation = validation_triples[validation_triples[:, 1] == drd_id]"
   ]
  },
  {
   "cell_type": "code",
   "execution_count": 30,
   "id": "216cf3e0-5634-4441-bb9e-6ab33ce7eb15",
   "metadata": {},
   "outputs": [],
   "source": [
    "def evaluate_semantic_awareness_drd(triples, model, triples_factory):\n",
    "   final_semantic_awareness_score = 0\n",
    "   for triple in triples:\n",
    "        prediction_for_tail = predict.predict_target(model=model, relation=\"DrD\", head=triple[0].item(), triples_factory=triples_factory)\n",
    "        prediction_for_tail_top_10 = prediction_for_tail.df.nlargest(n=10, columns=\"score\")\n",
    "        prediction_for_head = predict.predict_target(model=model, relation=\"DrD\", tail=triple[2].item(), triples_factory=triples_factory)\n",
    "        prediction_for_head_top_10 = prediction_for_head.df.nlargest(n=10, columns=\"score\")\n",
    "        count_of_expected_head = len(prediction_for_head_top_10[prediction_for_head_top_10[\"head_label\"].str.startswith(\"Disease\")])\n",
    "        count_of_expected_tail = len(prediction_for_tail_top_10[prediction_for_tail_top_10[\"tail_label\"].str.startswith(\"Disease\")])\n",
    "        semantic_score = ((count_of_expected_head + count_of_expected_tail) / (len(prediction_for_tail_top_10) + len(prediction_for_head_top_10)))\n",
    "        final_semantic_awareness_score += semantic_score\n",
    "   final_semantic_awareness_score = final_semantic_awareness_score / len(triples)\n",
    "   return final_semantic_awareness_score"
   ]
  },
  {
   "cell_type": "code",
   "execution_count": 38,
   "id": "e157c3b5-b3be-45ce-8c0d-418e24436b92",
   "metadata": {},
   "outputs": [
    {
     "data": {
      "text/plain": [
       "1.0"
      ]
     },
     "execution_count": 38,
     "metadata": {},
     "output_type": "execute_result"
    }
   ],
   "source": [
    "sem_score_drd_rotate_test = evaluate_semantic_awareness_drd(drd_triples, rotate_model, dataset.training)\n",
    "sem_score_drd_rotate_test"
   ]
  },
  {
   "cell_type": "code",
   "execution_count": 39,
   "id": "1b6a5ca4-4d96-467d-8ece-4fdf47c21755",
   "metadata": {},
   "outputs": [
    {
     "data": {
      "text/plain": [
       "0.9419354838709679"
      ]
     },
     "execution_count": 39,
     "metadata": {},
     "output_type": "execute_result"
    }
   ],
   "source": [
    "sem_score_drd_transe_test = evaluate_semantic_awareness_drd(drd_triples,best_transe_model, dataset.training)\n",
    "sem_score_drd_transe_test"
   ]
  },
  {
   "cell_type": "code",
   "execution_count": 41,
   "id": "4ec28ff4-01f0-4a90-affe-c62a79fa8663",
   "metadata": {},
   "outputs": [
    {
     "data": {
      "text/plain": [
       "1.0"
      ]
     },
     "execution_count": 41,
     "metadata": {},
     "output_type": "execute_result"
    }
   ],
   "source": [
    "sem_score_drd_rotate_validation = evaluate_semantic_awareness_drd(drd_triples_validation, rotate_model, dataset.training)\n",
    "sem_score_drd_rotate_validation "
   ]
  },
  {
   "cell_type": "code",
   "execution_count": 42,
   "id": "07b60039-21b4-432d-907b-95f6b7285241",
   "metadata": {},
   "outputs": [
    {
     "data": {
      "text/plain": [
       "0.953448275862069"
      ]
     },
     "execution_count": 42,
     "metadata": {},
     "output_type": "execute_result"
    }
   ],
   "source": [
    "sem_score_drd_transe_validation = evaluate_semantic_awareness_drd(drd_triples_validation,best_transe_model, dataset.training)\n",
    "sem_score_drd_transe_validation"
   ]
  }
 ],
 "metadata": {
  "kernelspec": {
   "display_name": "Python 3 (ipykernel)",
   "language": "python",
   "name": "python3"
  },
  "language_info": {
   "codemirror_mode": {
    "name": "ipython",
    "version": 3
   },
   "file_extension": ".py",
   "mimetype": "text/x-python",
   "name": "python",
   "nbconvert_exporter": "python",
   "pygments_lexer": "ipython3",
   "version": "3.12.4"
  }
 },
 "nbformat": 4,
 "nbformat_minor": 5
}
