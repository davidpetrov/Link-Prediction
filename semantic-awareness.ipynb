{
 "cells": [
  {
   "metadata": {
    "ExecuteTime": {
     "end_time": "2024-06-20T10:27:12.011277Z",
     "start_time": "2024-06-20T10:27:12.007288Z"
    }
   },
   "cell_type": "code",
   "source": [
    "import torch\n",
    "import pykeen\n",
    "from pykeen import predict\n",
    "from pykeen.pipeline import pipeline\n",
    "from pykeen.datasets import get_dataset"
   ],
   "id": "d72dc3466e5399a0",
   "outputs": [],
   "execution_count": 2
  },
  {
   "metadata": {
    "ExecuteTime": {
     "end_time": "2024-06-20T10:27:13.384015Z",
     "start_time": "2024-06-20T10:27:13.380279Z"
    }
   },
   "cell_type": "code",
   "source": "mps_device = torch.device(\"mps\")",
   "id": "85c2f75aa367218f",
   "outputs": [],
   "execution_count": 3
  },
  {
   "metadata": {
    "ExecuteTime": {
     "end_time": "2024-06-20T10:27:14.590958Z",
     "start_time": "2024-06-20T10:27:14.003151Z"
    }
   },
   "cell_type": "code",
   "source": "ctd_only_model = torch.load('results/baseline/transe_hetionet_only_ctd_relation/trained_model.pkl', mps_device)",
   "id": "bc550adaf498e64b",
   "outputs": [],
   "execution_count": 4
  },
  {
   "cell_type": "code",
   "id": "initial_id",
   "metadata": {
    "collapsed": true,
    "ExecuteTime": {
     "end_time": "2024-06-20T10:27:16.013706Z",
     "start_time": "2024-06-20T10:27:15.457955Z"
    }
   },
   "source": "dataset = get_dataset(dataset=\"hetionet\")",
   "outputs": [],
   "execution_count": 5
  },
  {
   "metadata": {
    "ExecuteTime": {
     "end_time": "2024-06-20T10:46:19.398167Z",
     "start_time": "2024-06-20T10:46:19.391169Z"
    }
   },
   "cell_type": "code",
   "source": [
    "triples_factory = dataset.training\n",
    "test_triples = dataset.testing.mapped_triples\n",
    "ctd_id = torch.as_tensor(triples_factory.relations_to_ids([\"CtD\"]))\n",
    "ctd_triples = test_triples[test_triples[:, 1] == ctd_id]"
   ],
   "id": "8042e382b329b6a6",
   "outputs": [],
   "execution_count": 18
  },
  {
   "metadata": {
    "ExecuteTime": {
     "end_time": "2024-06-20T11:08:42.425031Z",
     "start_time": "2024-06-20T11:08:42.412915Z"
    }
   },
   "cell_type": "code",
   "source": "ctd_triples",
   "id": "8cafd7f1db0cbfdb",
   "outputs": [
    {
     "data": {
      "text/plain": [
       "tensor([[13278,     8, 14823],\n",
       "        [13931,     8, 14769],\n",
       "        [13675,     8, 14802],\n",
       "        [14458,     8, 14788],\n",
       "        [13982,     8, 14776],\n",
       "        [14061,     8, 14787],\n",
       "        [13468,     8, 14723],\n",
       "        [13795,     8, 14784],\n",
       "        [13489,     8, 14799],\n",
       "        [14222,     8, 14769],\n",
       "        [14340,     8, 14754],\n",
       "        [13670,     8, 14831],\n",
       "        [14209,     8, 14809],\n",
       "        [14115,     8, 14778],\n",
       "        [13654,     8, 14788],\n",
       "        [14340,     8, 14745],\n",
       "        [14509,     8, 14719],\n",
       "        [13538,     8, 14823],\n",
       "        [13909,     8, 14723],\n",
       "        [13214,     8, 14733],\n",
       "        [13796,     8, 14747],\n",
       "        [13228,     8, 14831],\n",
       "        [13581,     8, 14768],\n",
       "        [14097,     8, 14775],\n",
       "        [14194,     8, 14788],\n",
       "        [13561,     8, 14769],\n",
       "        [13600,     8, 14826],\n",
       "        [13655,     8, 14799],\n",
       "        [13625,     8, 14723],\n",
       "        [13774,     8, 14791],\n",
       "        [13805,     8, 14805],\n",
       "        [14005,     8, 14791],\n",
       "        [13236,     8, 14723],\n",
       "        [13514,     8, 14796],\n",
       "        [13368,     8, 14824],\n",
       "        [13403,     8, 14723],\n",
       "        [13633,     8, 14723],\n",
       "        [13587,     8, 14747],\n",
       "        [14100,     8, 14841],\n",
       "        [13581,     8, 14774],\n",
       "        [13175,     8, 14834],\n",
       "        [14458,     8, 14768],\n",
       "        [13691,     8, 14723],\n",
       "        [13340,     8, 14841],\n",
       "        [13882,     8, 14755],\n",
       "        [14061,     8, 14788],\n",
       "        [14040,     8, 14723],\n",
       "        [13999,     8, 14719],\n",
       "        [14398,     8, 14845],\n",
       "        [14028,     8, 14768],\n",
       "        [13581,     8, 14720],\n",
       "        [13755,     8, 14751],\n",
       "        [13491,     8, 14774],\n",
       "        [13491,     8, 14772],\n",
       "        [14114,     8, 14838],\n",
       "        [13254,     8, 14769],\n",
       "        [13927,     8, 14823],\n",
       "        [13791,     8, 14802],\n",
       "        [14353,     8, 14791],\n",
       "        [13607,     8, 14757],\n",
       "        [13969,     8, 14802],\n",
       "        [14417,     8, 14823],\n",
       "        [13487,     8, 14757],\n",
       "        [13491,     8, 14788],\n",
       "        [14019,     8, 14772],\n",
       "        [13655,     8, 14837],\n",
       "        [13424,     8, 14802],\n",
       "        [13491,     8, 14805],\n",
       "        [14214,     8, 14775],\n",
       "        [13343,     8, 14769],\n",
       "        [13982,     8, 14768]])"
      ]
     },
     "execution_count": 36,
     "metadata": {},
     "output_type": "execute_result"
    }
   ],
   "execution_count": 36
  },
  {
   "metadata": {
    "ExecuteTime": {
     "end_time": "2024-06-20T14:45:51.853337Z",
     "start_time": "2024-06-20T14:45:51.843963Z"
    }
   },
   "cell_type": "code",
   "source": [
    "def evaluate_semantic_awareness(triples, model, triples_factory):\n",
    "   final_semantic_awareness_score = 0\n",
    "   for triple in triples:\n",
    "        prediction_for_tail = predict.predict_target(model=model, relation=\"CtD\", head=triple[0].item(), triples_factory=triples_factory)\n",
    "        prediction_for_tail_top_10 = prediction_for_tail.df.nlargest(n=10, columns=\"score\")\n",
    "        prediction_for_head = predict.predict_target(model=model, relation=\"CtD\", tail=triple[2].item(), triples_factory=triples_factory)\n",
    "        prediction_for_head_top_10 = prediction_for_head.df.nlargest(n=10, columns=\"score\")\n",
    "        count_of_expected_head = len(prediction_for_head_top_10[prediction_for_head_top_10[\"head_label\"].str.startswith(\"Compound\")])\n",
    "        count_of_expected_tail = len(prediction_for_tail_top_10[prediction_for_tail_top_10[\"tail_label\"].str.startswith(\"Disease\")])\n",
    "        semantic_score = ((count_of_expected_head + count_of_expected_tail) / (len(prediction_for_tail_top_10) + len(prediction_for_head_top_10)))\n",
    "        final_semantic_awareness_score += semantic_score\n",
    "   final_semantic_awareness_score = final_semantic_awareness_score / len(triples)\n",
    "   return final_semantic_awareness_score"
   ],
   "id": "85ab5fc2344375e2",
   "outputs": [],
   "execution_count": 89
  },
  {
   "metadata": {
    "ExecuteTime": {
     "end_time": "2024-06-20T14:47:25.666448Z",
     "start_time": "2024-06-20T14:47:21.177902Z"
    }
   },
   "cell_type": "code",
   "source": [
    "sem_score_std_only = evaluate_semantic_awareness(ctd_triples, ctd_only_model, dataset.training)\n",
    "sem_score_std_only"
   ],
   "id": "2d2bb78cb871e06f",
   "outputs": [
    {
     "data": {
      "text/plain": [
       "0.897887323943661"
      ]
     },
     "execution_count": 92,
     "metadata": {},
     "output_type": "execute_result"
    }
   ],
   "execution_count": 92
  },
  {
   "metadata": {
    "ExecuteTime": {
     "end_time": "2024-06-20T14:48:32.912950Z",
     "start_time": "2024-06-20T14:48:32.393859Z"
    }
   },
   "cell_type": "code",
   "source": "best_hpo2_model = torch.load('results/baseline/transe_hetionet_only_ctd_relation/trained_model.pkl', mps_device)",
   "id": "dd59062a5fb255bd",
   "outputs": [],
   "execution_count": 93
  },
  {
   "metadata": {
    "ExecuteTime": {
     "end_time": "2024-06-20T14:49:44.172541Z",
     "start_time": "2024-06-20T14:49:39.642977Z"
    }
   },
   "cell_type": "code",
   "source": [
    "sem_score_best_hpo2 = evaluate_semantic_awareness(ctd_triples, best_hpo2_model, dataset.training)\n",
    "sem_score_best_hpo2"
   ],
   "id": "ad749327f2ff129f",
   "outputs": [
    {
     "data": {
      "text/plain": [
       "0.897887323943661"
      ]
     },
     "execution_count": 94,
     "metadata": {},
     "output_type": "execute_result"
    }
   ],
   "execution_count": 94
  }
 ],
 "metadata": {
  "kernelspec": {
   "display_name": "Python 3",
   "language": "python",
   "name": "python3"
  },
  "language_info": {
   "codemirror_mode": {
    "name": "ipython",
    "version": 2
   },
   "file_extension": ".py",
   "mimetype": "text/x-python",
   "name": "python",
   "nbconvert_exporter": "python",
   "pygments_lexer": "ipython2",
   "version": "2.7.6"
  }
 },
 "nbformat": 4,
 "nbformat_minor": 5
}
